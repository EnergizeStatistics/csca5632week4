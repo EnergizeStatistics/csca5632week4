{
 "cells": [
  {
   "cell_type": "code",
   "execution_count": null,
   "id": "884b53f1",
   "metadata": {},
   "outputs": [],
   "source": [
    "from transformers import BertTokenizer, BertModel"
   ]
  },
  {
   "cell_type": "code",
   "execution_count": null,
   "id": "2b4fde19",
   "metadata": {},
   "outputs": [],
   "source": [
    "# tokenizer = BertTokenizer.from_pretrained('bert-base-uncased')\n",
    "# model_for_embedding = BertModel.from_pretrained('bert-base-uncased')\n",
    "\n",
    "# # Tokenize the text data\n",
    "# def tokenize_embed_data(model_for_embedding, text):\n",
    "#     # Tokenize the sentence and obtain input IDs\n",
    "#     # input_ids = tokenizer.encode(text, add_special_tokens=True)\n",
    "#     input_ids = tokenizer.encode_plus(text, truncation=True, max_length=512)['input_ids']\n",
    "    \n",
    "#     # Convert input IDs to tensor\n",
    "#     input_ids_tensor = torch.tensor([input_ids])\n",
    "    \n",
    "#     # Get the BERT model outputs\n",
    "#     with torch.no_grad():\n",
    "#         outputs = model_for_embedding(input_ids_tensor)\n",
    "    \n",
    "#     # Extract the embeddings from the output\n",
    "#     embeddings = outputs.last_hidden_state.squeeze(0)\n",
    "    \n",
    "#     # Reduce the embeddings to a fixed-size representation (e.g., average pooling)\n",
    "#     pooled_embeddings = torch.mean(embeddings, dim=0).numpy()\n",
    "\n",
    "\n",
    "#     return pooled_embeddings\n",
    "\n",
    "# X_train_orig_df = pd.DataFrame(X_train_orig)\n",
    "# X_train_orig_df['embeddings'] = X_train_orig_df['Text'].apply(lambda x: tokenize_embed_data(model_for_embedding, x))\n",
    "# X_train = np.vstack(X_train_orig_df['embeddings'].to_numpy())\n",
    "\n",
    "\n",
    "# X_test_orig_df = pd.DataFrame(X_test_orig)\n",
    "# X_test_orig_df['embeddings'] = X_test_orig_df['Text'].apply(lambda x: tokenize_embed_data(model_for_embedding, x))\n",
    "# X_test = np.vstack(X_test_orig_df['embeddings'].to_numpy())"
   ]
  }
 ],
 "metadata": {
  "kernelspec": {
   "display_name": "Python 3 (ipykernel)",
   "language": "python",
   "name": "python3"
  },
  "language_info": {
   "codemirror_mode": {
    "name": "ipython",
    "version": 3
   },
   "file_extension": ".py",
   "mimetype": "text/x-python",
   "name": "python",
   "nbconvert_exporter": "python",
   "pygments_lexer": "ipython3",
   "version": "3.10.13"
  }
 },
 "nbformat": 4,
 "nbformat_minor": 5
}
