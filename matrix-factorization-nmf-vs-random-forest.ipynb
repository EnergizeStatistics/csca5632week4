{
 "cells": [
  {
   "cell_type": "markdown",
   "metadata": {},
   "source": [
    "# BBC News Classification"
   ]
  },
  {
   "cell_type": "markdown",
   "metadata": {},
   "source": [
    "## Packages"
   ]
  },
  {
   "cell_type": "code",
   "execution_count": 1,
   "metadata": {
    "execution": {
     "iopub.execute_input": "2023-11-27T15:11:47.874400Z",
     "iopub.status.busy": "2023-11-27T15:11:47.874018Z",
     "iopub.status.idle": "2023-11-27T15:11:49.811514Z",
     "shell.execute_reply": "2023-11-27T15:11:49.810356Z",
     "shell.execute_reply.started": "2023-11-27T15:11:47.874368Z"
    }
   },
   "outputs": [],
   "source": [
    "# utilities\n",
    "from typing import Tuple\n",
    "import itertools\n",
    "import pickle\n",
    "import os\n",
    "from warnings import simplefilter\n",
    "from sklearn.exceptions import ConvergenceWarning\n",
    "simplefilter(action='ignore', category=FutureWarning)\n",
    "\n",
    "# general purpose\n",
    "import numpy as np\n",
    "import pandas as pd \n",
    "\n",
    "# plotting\n",
    "import seaborn as sns\n",
    "import matplotlib.pyplot as plt\n",
    "\n",
    "# text processing\n",
    "import re\n",
    "import nltk\n",
    "from sklearn.feature_extraction.text import TfidfVectorizer, CountVectorizer\n",
    "from sklearn.preprocessing import LabelEncoder\n",
    "\n",
    "# model training and evaluating\n",
    "from sklearn.metrics import accuracy_score, ConfusionMatrixDisplay\n",
    "from sklearn.model_selection import train_test_split, GridSearchCV, StratifiedKFold\n",
    "from sklearn.pipeline import Pipeline\n",
    "\n",
    "# modeling algorithms\n",
    "from sklearn.decomposition import NMF\n",
    "from sklearn.ensemble import RandomForestClassifier"
   ]
  },
  {
   "cell_type": "markdown",
   "metadata": {},
   "source": [
    "## Data"
   ]
  },
  {
   "cell_type": "code",
   "execution_count": 2,
   "metadata": {
    "execution": {
     "iopub.execute_input": "2023-11-27T09:05:26.018482Z",
     "iopub.status.busy": "2023-11-27T09:05:26.017306Z",
     "iopub.status.idle": "2023-11-27T09:05:26.028241Z",
     "shell.execute_reply": "2023-11-27T09:05:26.026649Z",
     "shell.execute_reply.started": "2023-11-27T09:05:26.018448Z"
    }
   },
   "outputs": [],
   "source": [
    "# for dirname, _, filenames in os.walk('/kaggle/input'):\n",
    "#     for filename in filenames:\n",
    "#         print(os.path.join(dirname, filename))"
   ]
  },
  {
   "cell_type": "code",
   "execution_count": 3,
   "metadata": {
    "execution": {
     "iopub.execute_input": "2023-11-27T09:05:26.030503Z",
     "iopub.status.busy": "2023-11-27T09:05:26.030118Z",
     "iopub.status.idle": "2023-11-27T09:05:26.242065Z",
     "shell.execute_reply": "2023-11-27T09:05:26.240881Z",
     "shell.execute_reply.started": "2023-11-27T09:05:26.030478Z"
    }
   },
   "outputs": [],
   "source": [
    "train = pd.read_csv('data/bbc-news-data/BBC News Train.csv')\n",
    "submission_test = pd.read_csv('data/bbc-news-data/BBC News Test.csv')\n",
    "sample_solution = pd.read_csv('data/bbc-news-data/BBC News Sample Solution.csv')\n",
    "\n",
    "# train = pd.read_csv('/kaggle/input/learn-ai-bbc/BBC News Train.csv')\n",
    "# submission_test = pd.read_csv('/kaggle/input/learn-ai-bbc/BBC News Test.csv')\n",
    "# sample_solution = pd.read_csv('/kaggle/input/learn-ai-bbc/BBC News Sample Solution.csv')"
   ]
  },
  {
   "cell_type": "markdown",
   "metadata": {},
   "source": [
    "## Exploratory data analysis "
   ]
  },
  {
   "cell_type": "markdown",
   "metadata": {},
   "source": [
    "First look at the structure of the datasets. "
   ]
  },
  {
   "cell_type": "code",
   "execution_count": 4,
   "metadata": {
    "execution": {
     "iopub.execute_input": "2023-11-27T09:05:26.243531Z",
     "iopub.status.busy": "2023-11-27T09:05:26.243104Z",
     "iopub.status.idle": "2023-11-27T09:05:26.261949Z",
     "shell.execute_reply": "2023-11-27T09:05:26.260753Z",
     "shell.execute_reply.started": "2023-11-27T09:05:26.243508Z"
    }
   },
   "outputs": [
    {
     "name": "stdout",
     "output_type": "stream",
     "text": [
      "Whole train dataset shape: (1490, 3)\n",
      "Train dataset preview\n",
      "   ArticleId                                               Text  Category\n",
      "0       1833  worldcom ex-boss launches defence lawyers defe...  business\n",
      "1        154  german business confidence slides german busin...  business\n",
      "2       1101  bbc poll indicates economic gloom citizens in ...  business\n",
      "3       1976  lifestyle  governs mobile choice  faster  bett...      tech\n",
      "4        917  enron bosses in $168m payout eighteen former e...  business\n"
     ]
    }
   ],
   "source": [
    "print(f'Whole train dataset shape: {train.shape}')\n",
    "print('Train dataset preview')\n",
    "print(train.head())"
   ]
  },
  {
   "cell_type": "code",
   "execution_count": 5,
   "metadata": {
    "execution": {
     "iopub.execute_input": "2023-11-27T09:05:26.264792Z",
     "iopub.status.busy": "2023-11-27T09:05:26.264298Z",
     "iopub.status.idle": "2023-11-27T09:05:26.270948Z",
     "shell.execute_reply": "2023-11-27T09:05:26.269923Z",
     "shell.execute_reply.started": "2023-11-27T09:05:26.264758Z"
    }
   },
   "outputs": [
    {
     "name": "stdout",
     "output_type": "stream",
     "text": [
      "Preview of the test dataset for which we need to submit results\n",
      "   ArticleId                                               Text\n",
      "0       1018  qpr keeper day heads for preston queens park r...\n",
      "1       1319  software watching while you work software that...\n",
      "2       1138  d arcy injury adds to ireland woe gordon d arc...\n",
      "3        459  india s reliance family feud heats up the ongo...\n",
      "4       1020  boro suffer morrison injury blow middlesbrough...\n"
     ]
    }
   ],
   "source": [
    "print('Preview of the test dataset for which we need to submit results')\n",
    "print(submission_test.head())"
   ]
  },
  {
   "cell_type": "markdown",
   "metadata": {},
   "source": [
    "The train and submission datasets have the same structure except for the target. \n",
    "\n",
    "Now we look at the content of the news articles."
   ]
  },
  {
   "cell_type": "code",
   "execution_count": 6,
   "metadata": {
    "execution": {
     "iopub.execute_input": "2023-11-27T09:05:26.273239Z",
     "iopub.status.busy": "2023-11-27T09:05:26.272929Z",
     "iopub.status.idle": "2023-11-27T09:05:26.284480Z",
     "shell.execute_reply": "2023-11-27T09:05:26.282614Z",
     "shell.execute_reply.started": "2023-11-27T09:05:26.273216Z"
    }
   },
   "outputs": [
    {
     "name": "stdout",
     "output_type": "stream",
     "text": [
      "worldcom ex-boss launches defence lawyers defending former worldcom chief bernie ebbers against a battery of fraud charges have called a company whistleblower as their first witness.  cynthia cooper  worldcom s ex-head of internal accounting  alerted directors to irregular accounting practices at the us telecoms giant in 2002. her warnings led to the collapse of the firm following the discovery of an $11bn (£5.7bn) accounting fraud. mr ebbers has pleaded not guilty to charges of fraud and conspiracy.  prosecution lawyers have argued that mr ebbers orchestrated a series of accounting tricks at worldcom  ordering employees to hide expenses and inflate revenues to meet wall street earnings estimates. but ms cooper  who now runs her own consulting business  told a jury in new york on wednesday that external auditors arthur andersen had approved worldcom s accounting in early 2001 and 2002. she said andersen had given a  green light  to the procedures and practices used by worldcom. mr ebber s lawyers have said he was unaware of the fraud  arguing that auditors did not alert him to any problems.  ms cooper also said that during shareholder meetings mr ebbers often passed over technical questions to the company s finance chief  giving only  brief  answers himself. the prosecution s star witness  former worldcom financial chief scott sullivan  has said that mr ebbers ordered accounting adjustments at the firm  telling him to  hit our books . however  ms cooper said mr sullivan had not mentioned  anything uncomfortable  about worldcom s accounting during a 2001 audit committee meeting. mr ebbers could face a jail sentence of 85 years if convicted of all the charges he is facing. worldcom emerged from bankruptcy protection in 2004  and is now known as mci. last week  mci agreed to a buyout by verizon communications in a deal valued at $6.75bn.\n"
     ]
    }
   ],
   "source": [
    "print(train['Text'].iloc[0])"
   ]
  },
  {
   "cell_type": "markdown",
   "metadata": {},
   "source": [
    "How many words are in each news piece?"
   ]
  },
  {
   "cell_type": "code",
   "execution_count": 7,
   "metadata": {
    "execution": {
     "iopub.execute_input": "2023-11-27T09:05:26.287144Z",
     "iopub.status.busy": "2023-11-27T09:05:26.286059Z",
     "iopub.status.idle": "2023-11-27T09:05:26.806869Z",
     "shell.execute_reply": "2023-11-27T09:05:26.805287Z",
     "shell.execute_reply.started": "2023-11-27T09:05:26.287094Z"
    }
   },
   "outputs": [
    {
     "name": "stdout",
     "output_type": "stream",
     "text": [
      "Distribution of text length in whole training dataset\n",
      "count    1490.000000\n",
      "mean      385.012752\n",
      "std       210.898616\n",
      "min        90.000000\n",
      "25%       253.000000\n",
      "50%       337.000000\n",
      "75%       468.750000\n",
      "max      3345.000000\n",
      "Name: Text, dtype: float64\n"
     ]
    },
    {
     "data": {
      "text/plain": [
       "[Text(0.5, 1.0, 'Distribution of Text Length in Whole Training Dataset')]"
      ]
     },
     "execution_count": 7,
     "metadata": {},
     "output_type": "execute_result"
    },
    {
     "data": {
      "image/png": "[encoded data removed]",
      "text/plain": [
       "<Figure size 1100x700 with 1 Axes>"
      ]
     },
     "metadata": {},
     "output_type": "display_data"
    }
   ],
   "source": [
    "text_len = train['Text'].apply(lambda x: len(x.split()))\n",
    "print('Distribution of text length in whole training dataset')\n",
    "print(text_len.describe())\n",
    "plt.figure(figsize=(11,7))\n",
    "sns.histplot(data=text_len).set(title='Distribution of Text Length in Whole Training Dataset')"
   ]
  },
  {
   "cell_type": "markdown",
   "metadata": {},
   "source": [
    "Now look at the target. "
   ]
  },
  {
   "cell_type": "code",
   "execution_count": 8,
   "metadata": {
    "execution": {
     "iopub.execute_input": "2023-11-27T09:05:26.809537Z",
     "iopub.status.busy": "2023-11-27T09:05:26.809113Z",
     "iopub.status.idle": "2023-11-27T09:05:27.072995Z",
     "shell.execute_reply": "2023-11-27T09:05:27.072138Z",
     "shell.execute_reply.started": "2023-11-27T09:05:26.809499Z"
    }
   },
   "outputs": [
    {
     "name": "stdout",
     "output_type": "stream",
     "text": [
      "Counts of news articles in each topic in whole training dataset\n",
      "Category\n",
      "sport            346\n",
      "business         336\n",
      "politics         274\n",
      "entertainment    273\n",
      "tech             261\n",
      "Name: count, dtype: int64\n"
     ]
    },
    {
     "data": {
      "text/plain": [
       "[Text(0.5, 1.0, 'Counts of News Articles in Each Topic in Whole Training Dataset')]"
      ]
     },
     "execution_count": 8,
     "metadata": {},
     "output_type": "execute_result"
    },
    {
     "data": {
      "image/png": "[encoded data removed]",
      "text/plain": [
       "<Figure size 1100x700 with 1 Axes>"
      ]
     },
     "metadata": {},
     "output_type": "display_data"
    }
   ],
   "source": [
    "num_topics = train['Category'].nunique()\n",
    "print('Counts of news articles in each topic in whole training dataset')\n",
    "print(train['Category'].value_counts())\n",
    "plt.figure(figsize=(11,7))\n",
    "sns.countplot(train, x=\"Category\").set(title='Counts of News Articles in Each Topic in Whole Training Dataset')"
   ]
  },
  {
   "cell_type": "markdown",
   "metadata": {},
   "source": [
    "The topics seem to have a rather balanced distribution. "
   ]
  },
  {
   "cell_type": "markdown",
   "metadata": {},
   "source": [
    "### Analysis plan"
   ]
  },
  {
   "cell_type": "markdown",
   "metadata": {},
   "source": [
    "We will first clean up the text data. As we observe from the example, it appears the text data has already gone through some processing. However we feel more cleaning is needed. There are special characters, some punctuations, and very common words such as \"the\" (known as stop words in natural language processing). Also in many places there is more than one space between words. All of these will be removed. \n",
    "\n",
    "The next step is tokenize and vectorize the words - just like in many natural language processing tasks. Many methods exist to vectorize tokens. However, for learning purpose, I would like to utilize the Non-Negative Matrix Factorization (NMF) method implemented in scikit-learn to fit the recommendation model. This limits our choices of vectorization methods, as NMF requires the token vectors to have only non-negative values. The TF-IDF (term frequency-inverse document frequency) vectorization algorithm guarantees that the embeddings it creates are always non-negative. Later in the \"Word embedding matrices\" section we include a brief description of TF-IDF. \n",
    "\n",
    "Certain routine preparations are needed before modeling, such as splitting the dataset into train and test datasets, transforming the target label into some form of numeric data (label encoding). \n",
    "\n",
    "When we complete these routine tasks, we will be ready to build a model. The first model we will build is the NMF model. We will use the default values for solving the matrix factorization. We do need to specify the number of \"latent factors\" to be the number of topics - this will give us a matrix whose shape is (number of news articles) x (number of topics). \n",
    "\n",
    "After training the model, we will use the model to generate predictions, and then compare the predictions to the true targets to evaluate the predictive accuracy of the model. Most of these steps are rather routine: calculating accuracy score, inspecting the confusion matrix, deciding whether the model demonstrates overfitting or underfitting by comparing the train and test performances, etc. What is special to this project is on generating predictions. NMF is not a supervised learning algorithm, and therefore the target it generates will not necessarily match the encoding of the true targets. We need another step to find the best matching label ordering based on the accuracy. After mapping the groups NMF generates to the groups of the target, we continue to transform the predictions to the topics using the trained label encoder. At this stage, each news article is predicted to be in a category that is \"business\" etc. rather than a number. \n",
    "\n",
    "We then proceed to improve the model. Both the NMF model and the TF-IDF vectorizer have hyperparameters that we can potentially tune. We will apply cross-validation and use grid search for this task. \n",
    "\n",
    "Model improvement does not stop at finding the optimal hyperparameters for the algorithms we initially pick - we can try out other algorithms. Here we continue to attempt to improve the model using a different word vectorization method - count vectorizer. \n",
    "\n",
    "The next step in the assignment is to compare matrix factorization to a supervised learning algorithm. We will build a random forest classification model and evaluate its performance.\n",
    "\n",
    "The final step is to generate a submission file. The Kaggle challenge provides a sample submission file. All we need to do here is to output the predicted topics of the test data and organize the predictions into the same structure as the sample file. "
   ]
  },
  {
   "cell_type": "markdown",
   "metadata": {},
   "source": [
    "## Model training preparation"
   ]
  },
  {
   "cell_type": "markdown",
   "metadata": {},
   "source": [
    "### Train and test datasets"
   ]
  },
  {
   "cell_type": "code",
   "execution_count": 9,
   "metadata": {
    "execution": {
     "iopub.execute_input": "2023-11-27T09:05:27.074906Z",
     "iopub.status.busy": "2023-11-27T09:05:27.074438Z",
     "iopub.status.idle": "2023-11-27T09:05:27.082153Z",
     "shell.execute_reply": "2023-11-27T09:05:27.080814Z",
     "shell.execute_reply.started": "2023-11-27T09:05:27.074874Z"
    }
   },
   "outputs": [],
   "source": [
    "train = train.set_index('ArticleId')\n",
    "\n",
    "X_train_orig, X_test_orig, y_train_orig, y_test_orig = train_test_split(train['Text'], train['Category'], \\\n",
    "                                                                        test_size=0.2, random_state=0)"
   ]
  },
  {
   "cell_type": "markdown",
   "metadata": {},
   "source": [
    "The text target is transformed to numeric values. "
   ]
  },
  {
   "cell_type": "code",
   "execution_count": 10,
   "metadata": {
    "execution": {
     "iopub.execute_input": "2023-11-27T09:05:27.102452Z",
     "iopub.status.busy": "2023-11-27T09:05:27.101259Z",
     "iopub.status.idle": "2023-11-27T09:05:27.113117Z",
     "shell.execute_reply": "2023-11-27T09:05:27.111177Z",
     "shell.execute_reply.started": "2023-11-27T09:05:27.102416Z"
    }
   },
   "outputs": [],
   "source": [
    "label_encoder = LabelEncoder()\n",
    "\n",
    "y_train = pd.DataFrame({'ArticleId': X_train_orig.index, \\\n",
    "                        'Category': label_encoder.fit_transform(y_train_orig)}).set_index('ArticleId')['Category']\n",
    "\n",
    "y_test = pd.DataFrame({'ArticleId': X_test_orig.index, \\\n",
    "                        'Category': label_encoder.transform(y_test_orig)}).set_index('ArticleId')['Category']"
   ]
  },
  {
   "cell_type": "markdown",
   "metadata": {},
   "source": [
    "### Text processing"
   ]
  },
  {
   "cell_type": "markdown",
   "metadata": {},
   "source": [
    "The next four helper functions perform the text data cleaning described in the first paragraph of the analysis plan. "
   ]
  },
  {
   "cell_type": "code",
   "execution_count": 11,
   "metadata": {
    "execution": {
     "iopub.execute_input": "2023-11-27T09:05:27.117078Z",
     "iopub.status.busy": "2023-11-27T09:05:27.116276Z",
     "iopub.status.idle": "2023-11-27T09:05:27.127104Z",
     "shell.execute_reply": "2023-11-27T09:05:27.125480Z",
     "shell.execute_reply.started": "2023-11-27T09:05:27.116998Z"
    }
   },
   "outputs": [],
   "source": [
    "def remove_punctuation(text):\n",
    "    \"\"\"remove all punctuation\n",
    "    \"\"\"\n",
    "    return re.sub(r'[^\\w\\s]+', '', text)"
   ]
  },
  {
   "cell_type": "code",
   "execution_count": 12,
   "metadata": {
    "execution": {
     "iopub.execute_input": "2023-11-27T09:05:27.129609Z",
     "iopub.status.busy": "2023-11-27T09:05:27.129149Z",
     "iopub.status.idle": "2023-11-27T09:05:27.140302Z",
     "shell.execute_reply": "2023-11-27T09:05:27.139080Z",
     "shell.execute_reply.started": "2023-11-27T09:05:27.129574Z"
    }
   },
   "outputs": [],
   "source": [
    "def remove_number(text):\n",
    "    \"\"\"remove numbers\n",
    "    \"\"\"\n",
    "    return re.sub(r'\\d+', '', text)"
   ]
  },
  {
   "cell_type": "code",
   "execution_count": 13,
   "metadata": {
    "execution": {
     "iopub.execute_input": "2023-11-27T09:05:27.145924Z",
     "iopub.status.busy": "2023-11-27T09:05:27.145468Z",
     "iopub.status.idle": "2023-11-27T09:05:27.153140Z",
     "shell.execute_reply": "2023-11-27T09:05:27.152077Z",
     "shell.execute_reply.started": "2023-11-27T09:05:27.145886Z"
    }
   },
   "outputs": [
    {
     "name": "stderr",
     "output_type": "stream",
     "text": [
      "[nltk_data] Downloading package stopwords to nltk_downloads...\n",
      "[nltk_data]   Package stopwords is already up-to-date!\n"
     ]
    }
   ],
   "source": [
    "nltk.download('stopwords', download_dir='nltk_downloads')\n",
    "nltk.data.path.append('nltk_downloads')\n",
    "from nltk.corpus import stopwords"
   ]
  },
  {
   "cell_type": "code",
   "execution_count": 14,
   "metadata": {
    "execution": {
     "iopub.execute_input": "2023-11-27T09:05:27.155531Z",
     "iopub.status.busy": "2023-11-27T09:05:27.155249Z",
     "iopub.status.idle": "2023-11-27T09:05:27.165431Z",
     "shell.execute_reply": "2023-11-27T09:05:27.164330Z",
     "shell.execute_reply.started": "2023-11-27T09:05:27.155506Z"
    }
   },
   "outputs": [],
   "source": [
    "def remove_stopword(text):\n",
    "    \"\"\"remove stopwords\n",
    "    \"\"\"\n",
    "    stop_words = stopwords.words('english')\n",
    "    return ' '.join([word for word in text.split() if word not in (stop_words)])"
   ]
  },
  {
   "cell_type": "code",
   "execution_count": 15,
   "metadata": {
    "execution": {
     "iopub.execute_input": "2023-11-27T09:05:27.167867Z",
     "iopub.status.busy": "2023-11-27T09:05:27.167218Z",
     "iopub.status.idle": "2023-11-27T09:05:27.181821Z",
     "shell.execute_reply": "2023-11-27T09:05:27.180427Z",
     "shell.execute_reply.started": "2023-11-27T09:05:27.167837Z"
    }
   },
   "outputs": [],
   "source": [
    "def remove_extra_space(text):\n",
    "    \"\"\"when there are multiple spaces, consolidate them and leave only one whitespace. \n",
    "    \"\"\"\n",
    "    return re.sub(' +', ' ', text)"
   ]
  },
  {
   "cell_type": "code",
   "execution_count": 16,
   "metadata": {
    "execution": {
     "iopub.execute_input": "2023-11-27T09:05:27.184684Z",
     "iopub.status.busy": "2023-11-27T09:05:27.183046Z",
     "iopub.status.idle": "2023-11-27T09:05:28.515882Z",
     "shell.execute_reply": "2023-11-27T09:05:28.514373Z",
     "shell.execute_reply.started": "2023-11-27T09:05:27.184645Z"
    }
   },
   "outputs": [],
   "source": [
    "X_train_text_cleaned = X_train_orig.apply(remove_punctuation).apply(remove_number)\\\n",
    "    .apply(remove_stopword).apply(remove_extra_space)\n",
    "X_test_text_cleaned = X_test_orig.apply(remove_punctuation).apply(remove_number)\\\n",
    "    .apply(remove_stopword).apply(remove_extra_space)"
   ]
  },
  {
   "cell_type": "markdown",
   "metadata": {},
   "source": [
    "Perform similar EDA steps as in the earlier section, to show the effect of the cleaning. "
   ]
  },
  {
   "cell_type": "code",
   "execution_count": 17,
   "metadata": {
    "execution": {
     "iopub.execute_input": "2023-11-27T09:05:28.517720Z",
     "iopub.status.busy": "2023-11-27T09:05:28.517300Z",
     "iopub.status.idle": "2023-11-27T09:05:29.091873Z",
     "shell.execute_reply": "2023-11-27T09:05:29.090677Z",
     "shell.execute_reply.started": "2023-11-27T09:05:28.517685Z"
    }
   },
   "outputs": [
    {
     "name": "stdout",
     "output_type": "stream",
     "text": [
      "Distribution of text length in user-defined train dataset, after cleaning\n",
      "count    1192.000000\n",
      "mean      212.473993\n",
      "std       114.113938\n",
      "min        47.000000\n",
      "25%       139.000000\n",
      "50%       187.500000\n",
      "75%       260.000000\n",
      "max      1635.000000\n",
      "Name: Text, dtype: float64\n"
     ]
    },
    {
     "data": {
      "text/plain": [
       "[Text(0.5, 1.0, 'Distribution of Text Length in User-Defined Training Dataset, After Cleaning')]"
      ]
     },
     "execution_count": 17,
     "metadata": {},
     "output_type": "execute_result"
    },
    {
     "data": {
      "image/png": "[encoded data removed]",
      "text/plain": [
       "<Figure size 1100x700 with 1 Axes>"
      ]
     },
     "metadata": {},
     "output_type": "display_data"
    }
   ],
   "source": [
    "cleaned_text_len = X_train_text_cleaned.apply(lambda x: len(x.split()))\n",
    "print('Distribution of text length in user-defined train dataset, after cleaning')\n",
    "print(cleaned_text_len.describe())\n",
    "plt.figure(figsize=(11,7))\n",
    "sns.histplot(data=cleaned_text_len)\\\n",
    "    .set(title='Distribution of Text Length in User-Defined Training Dataset, After Cleaning')"
   ]
  },
  {
   "cell_type": "markdown",
   "metadata": {},
   "source": [
    "Comparing the summary statistics to those of the raw text data, we can see that we have removed about half of the words. The shape of the distribution remains similar to that before the cleaning."
   ]
  },
  {
   "cell_type": "markdown",
   "metadata": {},
   "source": [
    "### Word embedding matrices"
   ]
  },
  {
   "cell_type": "markdown",
   "metadata": {},
   "source": [
    "As noted in the analysis plan, we choose TF-IDF vectorizer because it returns non-negative word embeddings. \n",
    "\n",
    "This vectorization algorithm is built upon two scores: Term Frequency (TF), and Inverse Document Frequency (IDF).\n",
    "\n",
    "TF measures how often a word appears in a document. It is calculated as the ratio of the number of times a term appears in a document to the total number of terms in that document. IDF measures the rarity of a term across the entire collection of documents (known as corpus in natural language processing). It is calculated as the logarithm of the ratio of the total number of documents in the corpus to the number of documents containing the term of interest, with the result being inverted. Then the TF-IDF score for a term in a document is obtained by multiplying its TF and IDF scores. This process is repeated for each term in each document, resulting in a vector representation where each dimension corresponds to a unique term and the value of each dimension is its TF-IDF score.\n",
    "\n",
    "The point of TF is to give higher weights to terms that appear more frequently in a document, assuming that they are more important in representing the content of that specific document. The idea behind IDF is to give higher weights to terms that are rare across the entire corpus, assuming that they are more discriminative.\n",
    "\n",
    "The code to convert the text data into embedding matrices is wrapped into the `train_nmf_model` and later the `train_rf_model` functions for the sake of reusing code. "
   ]
  },
  {
   "cell_type": "markdown",
   "metadata": {},
   "source": [
    "### Label permutation"
   ]
  },
  {
   "cell_type": "markdown",
   "metadata": {},
   "source": [
    "Here we find the best label match based on the accuracy, as discussed in the analysis plan. "
   ]
  },
  {
   "cell_type": "code",
   "execution_count": 18,
   "metadata": {
    "execution": {
     "iopub.execute_input": "2023-11-27T09:05:29.093582Z",
     "iopub.status.busy": "2023-11-27T09:05:29.093195Z",
     "iopub.status.idle": "2023-11-27T09:05:29.101217Z",
     "shell.execute_reply": "2023-11-27T09:05:29.099785Z",
     "shell.execute_reply.started": "2023-11-27T09:05:29.093557Z"
    }
   },
   "outputs": [],
   "source": [
    "def label_permute_compare(y_true, y_pred, n):\n",
    "\n",
    "    best_permutation = None\n",
    "    best_accuracy = 0.0\n",
    "    best_predicted_labels = None\n",
    "\n",
    "    unique_labels_true = sorted(set(y_true))\n",
    "\n",
    "    unique_labels_predicted = sorted(set(y_pred))\n",
    "\n",
    "    assert len(unique_labels_true) == n, \\\n",
    "        \"the number of labels in actual data does not agree with what's specified in the parameter n\"\n",
    "\n",
    "    assert len(unique_labels_predicted) == n, \\\n",
    "        \"the number of labels in predicted data does not agree with what's specified in the parameter n\"\n",
    "\n",
    "    # generate all possible permutations of the predicted labels\n",
    "    predicted_permutations = itertools.permutations(unique_labels_predicted)\n",
    "    \n",
    "    all_mappings = []\n",
    "\n",
    "    for each_permutation in predicted_permutations:\n",
    "        # each mapping dictionary follows this format: {NMF-predicted label: label-encoded true label}\n",
    "        mapping = {key: value for key, value in zip(each_permutation, unique_labels_true)}\n",
    "        all_mappings.append(mapping)\n",
    "\n",
    "    for each_mapping in all_mappings:\n",
    "        # apply the mapping to the predicted labels\n",
    "        # result is a numpy array, each element is a label-encoded predicted topic\n",
    "        mapped_predicted_labels = np.vectorize(each_mapping.get)(y_pred)\n",
    "        accuracy = accuracy_score(y_true, mapped_predicted_labels)\n",
    "\n",
    "        if accuracy > best_accuracy:\n",
    "            best_accuracy = accuracy\n",
    "            best_mapping = each_mapping\n",
    "\n",
    "    best_predicted_labels = np.vectorize(best_mapping.get)(y_pred)\n",
    "    \n",
    "    return best_mapping, best_accuracy, best_predicted_labels"
   ]
  },
  {
   "cell_type": "markdown",
   "metadata": {},
   "source": [
    "### Model performance"
   ]
  },
  {
   "cell_type": "markdown",
   "metadata": {},
   "source": [
    "We use accuracy to measure predictive performance. To show more details, we use confusion matrix to examine our performance within each category of the target."
   ]
  },
  {
   "cell_type": "code",
   "execution_count": 19,
   "metadata": {
    "execution": {
     "iopub.execute_input": "2023-11-27T09:05:29.104213Z",
     "iopub.status.busy": "2023-11-27T09:05:29.103743Z",
     "iopub.status.idle": "2023-11-27T09:05:29.119755Z",
     "shell.execute_reply": "2023-11-27T09:05:29.118597Z",
     "shell.execute_reply.started": "2023-11-27T09:05:29.104181Z"
    }
   },
   "outputs": [],
   "source": [
    "def show_performance(encoded_train_target_pred, encoded_test_target_pred, target_encoder, \\\n",
    "                     encoded_train_target_true, encoded_test_target_true, model_type, show_result_plot=False):\n",
    "    \"\"\"\n",
    "    encoded_train_target_pred: Predictions made by the algorithm, in train dataset. These values are label-encoded. \n",
    "        If the algorithm is NMF, these values are already matched via permutation.\n",
    "    encoded_test_target_pred: Similar to encoded_train_target_pred, but predictions in test dataset. \n",
    "    target_encoder: The label encoder that transforms the target topic.\n",
    "    encoded_train_target_true: True target of the train dataset, label-encoded.\n",
    "    encoded_test_target_true: Similar to encoded_train_target_true, but of test dataset. \n",
    "    model_type: Name of the algorithm for display. \n",
    "    show_result_plot: Whether to show the results when this function executes. Often we want to look at the results,\n",
    "        but one use case is to run this function a few times and put the accuracy scores into a table. \n",
    "    \"\"\"\n",
    "    \n",
    "    y_train_pred_formatted = target_encoder.inverse_transform(encoded_train_target_pred)\n",
    "    y_test_pred_formatted = target_encoder.inverse_transform(encoded_test_target_pred)\n",
    "    \n",
    "    y_train_orig = target_encoder.inverse_transform(encoded_train_target_true)\n",
    "    y_test_orig = target_encoder.inverse_transform(encoded_test_target_true)\n",
    "    \n",
    "    train_acc = accuracy_score(y_train_orig, y_train_pred_formatted)\n",
    "    test_acc = accuracy_score(y_test_orig, y_test_pred_formatted)\n",
    "    \n",
    "    if show_result_plot == True:\n",
    "        print(f'{model_type}, train accuracy: {train_acc:.4f}')\n",
    "        print(f'{model_type}, test accuracy: {test_acc:.4f}')\n",
    "\n",
    "        disp = ConfusionMatrixDisplay.from_predictions(y_train_orig, y_train_pred_formatted, \\\n",
    "                                                       xticks_rotation='vertical')\n",
    "        disp.ax_.set_title(f\"{model_type}, in train data\")\n",
    "        plt.show()\n",
    "\n",
    "        disp = ConfusionMatrixDisplay.from_predictions(y_test_orig, y_test_pred_formatted, \\\n",
    "                                                       xticks_rotation='vertical')\n",
    "        disp.ax_.set_title(f\"{model_type}, in test data\")\n",
    "        plt.show()\n",
    "\n",
    "    return train_acc, test_acc"
   ]
  },
  {
   "cell_type": "markdown",
   "metadata": {},
   "source": [
    "## Model training: NMF"
   ]
  },
  {
   "cell_type": "markdown",
   "metadata": {},
   "source": [
    "We put a few steps into one function as we will repeat these steps a few times. Specifcally, the function below\n",
    "* converts the text data into word embedding matrices\n",
    "* defines the NMF model\n",
    "* generates the predictions\n",
    "* executes the label permutation function to find the mapping between the topics and the groups the NMF model finds\n",
    "* for the model predictions, transforms numeric label targets back to the original topics\n",
    "* shows and eventually returns the train and test accuracy scores\n",
    "* shows the train and test confusion matrices\n",
    "* persists the necessary artifacts: trained vectorizer, trained model, the mapping between NMF groups and the labels"
   ]
  },
  {
   "cell_type": "code",
   "execution_count": 20,
   "metadata": {
    "execution": {
     "iopub.execute_input": "2023-11-27T15:11:33.615105Z",
     "iopub.status.busy": "2023-11-27T15:11:33.614690Z",
     "iopub.status.idle": "2023-11-27T15:11:33.936551Z",
     "shell.execute_reply": "2023-11-27T15:11:33.935207Z",
     "shell.execute_reply.started": "2023-11-27T15:11:33.615058Z"
    }
   },
   "outputs": [],
   "source": [
    "def train_nmf_model(word_vectorizer_definition, nmf_model_definition, \\\n",
    "                    train_text, test_text, \\\n",
    "                    train_target, test_target, \\\n",
    "                    show_result_plot=False, save_model=False) -> Tuple[float, float]:\n",
    "    \n",
    "    X_train = word_vectorizer_definition.fit_transform(train_text)\n",
    "    X_test = word_vectorizer_definition.transform(test_text)\n",
    "    \n",
    "    nmf_model_definition.fit(X_train)\n",
    "    \n",
    "    train_pred_representation = nmf_model_definition.transform(X_train)\n",
    "    test_pred_representation = nmf_model_definition.transform(X_test)\n",
    "\n",
    "    y_train_pred = train_pred_representation.argmax(axis=1)\n",
    "    y_test_pred = test_pred_representation.argmax(axis=1)\n",
    "    \n",
    "    best_mapping, best_train_accuracy, _ = label_permute_compare(y_true=train_target, \\\n",
    "                                                                 y_pred=y_train_pred, \\\n",
    "                                                                 n=num_topics)\n",
    "    if save_model == True:\n",
    "        with open('models/vectorizer.pkl', 'wb') as f:\n",
    "            pickle.dump(word_vectorizer_definition, f)\n",
    "        with open('models/nmf_model.pkl', 'wb') as f:\n",
    "            pickle.dump(nmf_model_definition, f)\n",
    "        with open('models/nmf_model_mapping.pkl', 'wb') as f:\n",
    "            pickle.dump(best_mapping, f)\n",
    "\n",
    "#     if save_model == True:\n",
    "#         with open('/kaggle/working/vectorizer.pkl', 'wb') as f:\n",
    "#             pickle.dump(word_vectorizer_definition, f)\n",
    "#         with open('/kaggle/working/nmf_model.pkl', 'wb') as f:\n",
    "#             pickle.dump(nmf_model_definition, f)\n",
    "#         with open('/kaggle/working/nmf_model_mapping.pkl', 'wb') as f:\n",
    "#             pickle.dump(best_mapping, f)\n",
    "    \n",
    "    y_train_pred_matched = np.vectorize(best_mapping.get)(y_train_pred)\n",
    "    y_test_pred_matched = np.vectorize(best_mapping.get)(y_test_pred)\n",
    "\n",
    "    train_acc, test_acc = show_performance(y_train_pred_matched, y_test_pred_matched, label_encoder, \\\n",
    "                                           train_target, test_target, 'NMF model', show_result_plot)\n",
    "    \n",
    "    return train_acc, test_acc"
   ]
  },
  {
   "cell_type": "code",
   "execution_count": 21,
   "metadata": {
    "execution": {
     "iopub.execute_input": "2023-11-27T09:05:29.142642Z",
     "iopub.status.busy": "2023-11-27T09:05:29.141262Z",
     "iopub.status.idle": "2023-11-27T09:05:30.332621Z",
     "shell.execute_reply": "2023-11-27T09:05:30.331620Z",
     "shell.execute_reply.started": "2023-11-27T09:05:29.142597Z"
    }
   },
   "outputs": [
    {
     "name": "stdout",
     "output_type": "stream",
     "text": [
      "NMF model, train accuracy: 0.9211\n",
      "NMF model, test accuracy: 0.9060\n"
     ]
    },
    {
     "data": {
      "image/png": "[encoded data removed]",
      "text/plain": [
       "<Figure size 640x480 with 2 Axes>"
      ]
     },
     "metadata": {},
     "output_type": "display_data"
    },
    {
     "data": {
      "image/png": "[encoded data removed]",
      "text/plain": [
       "<Figure size 640x480 with 2 Axes>"
      ]
     },
     "metadata": {},
     "output_type": "display_data"
    }
   ],
   "source": [
    "nmf_model_initial = NMF(n_components=num_topics, random_state=0)\n",
    "nmf_train_acc, nmf_test_acc = train_nmf_model(word_vectorizer_definition=TfidfVectorizer(), \\\n",
    "                                              nmf_model_definition=nmf_model_initial, \\\n",
    "                                              train_text=X_train_text_cleaned, \\\n",
    "                                              test_text=X_test_text_cleaned, \\\n",
    "                                              train_target=y_train, \\\n",
    "                                              test_target=y_test, \\\n",
    "                                              show_result_plot=True, \\\n",
    "                                              save_model=False)"
   ]
  },
  {
   "cell_type": "markdown",
   "metadata": {},
   "source": [
    "### Hyperparameter tuning"
   ]
  },
  {
   "cell_type": "markdown",
   "metadata": {},
   "source": [
    "Earlier in the analysis plan we mentioned that both the TF-IDF vectorizer and the NMF model have hyperparameters, which we can tune to potentially improve the model performance. Here we choose to tune the `ngram_range`, `max_df`, and `min_df` of TF-IDF vectorizer and `alpha_W` and `alpha_H` for the NMF model. \n",
    "\n",
    "`max_df` and `min_df` give the thresholds about terms to ignore when building the vocabulary. `ngram_range` decides whether we use unigrams or bigrams to extract terms. `alpha_W` controls the regularization terms of W; similarly, `alpha_H` controls the regularization terms of H."
   ]
  },
  {
   "cell_type": "code",
   "execution_count": null,
   "metadata": {
    "execution": {
     "iopub.execute_input": "2023-11-27T09:05:30.333960Z",
     "iopub.status.busy": "2023-11-27T09:05:30.333720Z",
     "iopub.status.idle": "2023-11-27T09:24:40.873534Z",
     "shell.execute_reply": "2023-11-27T09:24:40.872553Z",
     "shell.execute_reply.started": "2023-11-27T09:05:30.333939Z"
    }
   },
   "outputs": [],
   "source": [
    "simplefilter(\"ignore\", category=ConvergenceWarning)\n",
    "\n",
    "def custom_scoring(estimator, X, y_true):\n",
    "    y_pred_representation = estimator.transform(X)\n",
    "    y_pred = y_pred_representation.argmax(axis=1)\n",
    "    _, _, y_mapped = label_permute_compare(y_true, y_pred, num_topics)\n",
    "    return accuracy_score(y_true, y_mapped)\n",
    "\n",
    "pipeline = Pipeline([\n",
    "    ('tfidf', TfidfVectorizer()),\n",
    "    ('nmf', NMF(n_components=num_topics, random_state=0))\n",
    "])\n",
    "\n",
    "param_grid = {\n",
    "    'tfidf__max_df': [0.5, 0.75, 1.0],\n",
    "    'tfidf__min_df': [1, 2, 5],\n",
    "    'tfidf__ngram_range': [(1, 1), (1, 2)],\n",
    "    'nmf__alpha_W': [0, 0.00001, 0.00005],\n",
    "    'nmf__alpha_H': [0, 0.00001, 0.00005],\n",
    "}\n",
    "\n",
    "cv = StratifiedKFold(n_splits=5, shuffle=True, random_state=0)\n",
    "\n",
    "grid_search = GridSearchCV(pipeline, param_grid, cv=cv, scoring=custom_scoring)\n",
    "\n",
    "grid_search.fit(X_train_text_cleaned, y_train)"
   ]
  },
  {
   "cell_type": "code",
   "execution_count": null,
   "metadata": {
    "execution": {
     "iopub.execute_input": "2023-11-27T09:24:40.875450Z",
     "iopub.status.busy": "2023-11-27T09:24:40.874751Z",
     "iopub.status.idle": "2023-11-27T09:24:40.880609Z",
     "shell.execute_reply": "2023-11-27T09:24:40.879990Z",
     "shell.execute_reply.started": "2023-11-27T09:24:40.875419Z"
    }
   },
   "outputs": [],
   "source": [
    "# Print the best hyperparameters and corresponding accuracy\n",
    "print(f\"Best hyperparameters from cross-validation: {grid_search.best_params_}\")\n",
    "print(f\"Best accuracy from cross-validation: {grid_search.best_score_:.4f}\")"
   ]
  },
  {
   "cell_type": "markdown",
   "metadata": {},
   "source": [
    "The best alpha H and alpha W are their default values, 0. But cross-validation manages to find optimal values for the TF-IDF vectorizer. "
   ]
  },
  {
   "cell_type": "code",
   "execution_count": null,
   "metadata": {
    "execution": {
     "iopub.execute_input": "2023-11-27T09:24:40.882629Z",
     "iopub.status.busy": "2023-11-27T09:24:40.881533Z",
     "iopub.status.idle": "2023-11-27T09:24:40.901590Z",
     "shell.execute_reply": "2023-11-27T09:24:40.900601Z",
     "shell.execute_reply.started": "2023-11-27T09:24:40.882604Z"
    }
   },
   "outputs": [],
   "source": [
    "cv_results = pd.DataFrame(grid_search.cv_results_)[['param_nmf__alpha_H', \\\n",
    "                                                    'param_nmf__alpha_W', \\\n",
    "                                                    'param_tfidf__max_df', \\\n",
    "                                                    'param_tfidf__min_df', \\\n",
    "                                                    'param_tfidf__ngram_range', \\\n",
    "                                                    'mean_test_score', \\\n",
    "                                                    'std_test_score', \\\n",
    "                                                    'rank_test_score']]\n",
    "print('Number of hyperparameter combinations tested:', len(cv_results))"
   ]
  },
  {
   "cell_type": "markdown",
   "metadata": {},
   "source": [
    "Here we summarize the different hyperparameter combinations and their corresponding results. However, we have tested 162 combinations - too many to show in this notebook. The summary table below gives the hyperparameters that yield the top 10 performance. "
   ]
  },
  {
   "cell_type": "code",
   "execution_count": null,
   "metadata": {
    "execution": {
     "iopub.execute_input": "2023-11-27T09:24:40.903962Z",
     "iopub.status.busy": "2023-11-27T09:24:40.903083Z",
     "iopub.status.idle": "2023-11-27T09:24:40.927051Z",
     "shell.execute_reply": "2023-11-27T09:24:40.926280Z",
     "shell.execute_reply.started": "2023-11-27T09:24:40.903930Z"
    }
   },
   "outputs": [],
   "source": [
    "print(cv_results.sort_values(by=['rank_test_score']).head(n=10))"
   ]
  },
  {
   "cell_type": "markdown",
   "metadata": {},
   "source": [
    "### Model improvement"
   ]
  },
  {
   "cell_type": "markdown",
   "metadata": {},
   "source": [
    "#### Improved TF-IDF vectorization"
   ]
  },
  {
   "cell_type": "markdown",
   "metadata": {},
   "source": [
    "Now we use the best hyperparameters found in the previous step to re-train the model. "
   ]
  },
  {
   "cell_type": "code",
   "execution_count": null,
   "metadata": {
    "execution": {
     "iopub.execute_input": "2023-11-27T15:12:07.132536Z",
     "iopub.status.busy": "2023-11-27T15:12:07.131922Z",
     "iopub.status.idle": "2023-11-27T15:12:07.262179Z",
     "shell.execute_reply": "2023-11-27T15:12:07.260419Z",
     "shell.execute_reply.started": "2023-11-27T15:12:07.132499Z"
    }
   },
   "outputs": [],
   "source": [
    "tfidf_vectorizer_tuned = TfidfVectorizer(max_df=0.75, min_df=5, ngram_range=(1, 2))\n",
    "\n",
    "nmf_model_tuned = NMF(n_components=num_topics, alpha_H=0, alpha_W=0, random_state=0)\n",
    "\n",
    "nmf_tuned_train_acc, nmf_tuned_test_acc = train_nmf_model(word_vectorizer_definition=tfidf_vectorizer_tuned, \\\n",
    "                                                          nmf_model_definition=nmf_model_tuned, \\\n",
    "                                                          train_text=X_train_text_cleaned, \\\n",
    "                                                          test_text=X_test_text_cleaned, \\\n",
    "                                                          train_target=y_train, \\\n",
    "                                                          test_target=y_test, \\\n",
    "                                                          show_result_plot=True, \\\n",
    "                                                          save_model=True)"
   ]
  },
  {
   "cell_type": "markdown",
   "metadata": {},
   "source": [
    "The predictive performances are close between the training data and the test data, and they are both above 90%. This indicates that our model describes the data adequately and generates to new data well. "
   ]
  },
  {
   "cell_type": "markdown",
   "metadata": {},
   "source": [
    "#### Other attempt: a different feature extraction method"
   ]
  },
  {
   "cell_type": "markdown",
   "metadata": {},
   "source": [
    "Many approaches exist to improve models. We have tried hyperparameter tuning. Will a different way to vectorize the words improve the model?\n",
    "\n",
    "Here we try the count vectorizer. This vectorizer also only yields non-negative values."
   ]
  },
  {
   "cell_type": "code",
   "execution_count": null,
   "metadata": {
    "execution": {
     "iopub.status.busy": "2023-11-27T09:24:42.456999Z",
     "iopub.status.idle": "2023-11-27T09:24:42.457346Z",
     "shell.execute_reply": "2023-11-27T09:24:42.457206Z",
     "shell.execute_reply.started": "2023-11-27T09:24:42.457191Z"
    }
   },
   "outputs": [],
   "source": [
    "count_vectorizer = CountVectorizer()\n",
    "\n",
    "nmf_model_count_vec = NMF(n_components=num_topics, alpha_H=0, alpha_W=0, random_state=0)\n",
    "\n",
    "nmf_count_train_acc, nmf_count_test_acc = train_nmf_model(word_vectorizer_definition=count_vectorizer, \\\n",
    "                                                          nmf_model_definition=nmf_model_count_vec, \\\n",
    "                                                          train_text=X_train_text_cleaned, \\\n",
    "                                                          test_text=X_test_text_cleaned, \\\n",
    "                                                          train_target=y_train, \\\n",
    "                                                          test_target=y_test, \\\n",
    "                                                          show_result_plot=True, \\\n",
    "                                                          save_model=False)"
   ]
  },
  {
   "cell_type": "markdown",
   "metadata": {},
   "source": [
    "Count vectorizer does not improve the model. We will stick to TF-IDF vectorizer. "
   ]
  },
  {
   "cell_type": "markdown",
   "metadata": {},
   "source": [
    "## Model training: supervised learning algorithm"
   ]
  },
  {
   "cell_type": "markdown",
   "metadata": {},
   "source": [
    "The next step is to compare NMF to a supervised learning modeling method. My go-to supervised learning algorithm is Random Forest. It usually yields a reasonable performance without a lot of tuning. "
   ]
  },
  {
   "cell_type": "markdown",
   "metadata": {},
   "source": [
    "### Random forest model"
   ]
  },
  {
   "cell_type": "code",
   "execution_count": null,
   "metadata": {
    "execution": {
     "iopub.status.busy": "2023-11-27T09:24:42.458424Z",
     "iopub.status.idle": "2023-11-27T09:24:42.458780Z",
     "shell.execute_reply": "2023-11-27T09:24:42.458635Z",
     "shell.execute_reply.started": "2023-11-27T09:24:42.458615Z"
    }
   },
   "outputs": [],
   "source": [
    "def train_rf_model(word_vectorizer_definition, \\\n",
    "                    train_text, test_text, \\\n",
    "                    train_target, test_target, show_result_plot) -> Tuple[float, float]:\n",
    "    \n",
    "    X_train = word_vectorizer_definition.fit_transform(train_text)\n",
    "    X_test = word_vectorizer_definition.transform(test_text)\n",
    "    \n",
    "    rf_classifier = RandomForestClassifier(n_estimators=128, random_state=0)\n",
    "    rf_classifier.fit(X_train, train_target)\n",
    "\n",
    "    train_predictions = rf_classifier.predict(X_train)\n",
    "    \n",
    "    test_predictions = rf_classifier.predict(X_test)\n",
    "    \n",
    "    train_acc, test_acc = show_performance(train_predictions, test_predictions, label_encoder, \\\n",
    "                                           train_target, test_target, 'Random Forest model', show_result_plot)\n",
    "    \n",
    "    return train_acc, test_acc"
   ]
  },
  {
   "cell_type": "code",
   "execution_count": null,
   "metadata": {
    "execution": {
     "iopub.status.busy": "2023-11-27T09:24:42.460251Z",
     "iopub.status.idle": "2023-11-27T09:24:42.460539Z",
     "shell.execute_reply": "2023-11-27T09:24:42.460414Z",
     "shell.execute_reply.started": "2023-11-27T09:24:42.460400Z"
    }
   },
   "outputs": [],
   "source": [
    "rf_train_acc, rf_test_acc = train_rf_model(word_vectorizer_definition=tfidf_vectorizer_tuned, \\\n",
    "                                              train_text=X_train_text_cleaned, test_text=X_test_text_cleaned, \\\n",
    "                                              train_target=y_train, test_target=y_test, show_result_plot=True)    "
   ]
  },
  {
   "cell_type": "markdown",
   "metadata": {},
   "source": [
    "So far, Random Forest outperforms NMF in both train and test performance. "
   ]
  },
  {
   "cell_type": "markdown",
   "metadata": {},
   "source": [
    "## Discussion"
   ]
  },
  {
   "cell_type": "markdown",
   "metadata": {},
   "source": [
    "The random forest model outperforms the NMF model on 100% of train dataset we created. How would the results change with different sizies of train data? In other words, which algorithm is more data-efficient? Now we compare the performances of these two algorithms by training them on 10%, 20%, and 50% of our train dataset."
   ]
  },
  {
   "cell_type": "markdown",
   "metadata": {},
   "source": [
    "### Data efficiency"
   ]
  },
  {
   "cell_type": "code",
   "execution_count": null,
   "metadata": {
    "execution": {
     "iopub.status.busy": "2023-11-27T09:24:42.461587Z",
     "iopub.status.idle": "2023-11-27T09:24:42.461868Z",
     "shell.execute_reply": "2023-11-27T09:24:42.461745Z",
     "shell.execute_reply.started": "2023-11-27T09:24:42.461731Z"
    }
   },
   "outputs": [],
   "source": [
    "columns = ['train_sample_ratio', 'nmf_train_accuracy', 'nmf_test_accuracy', \\\n",
    "           'rf_train_accuracy', 'rf_test_accuracy']\n",
    "\n",
    "data_efficiency = pd.DataFrame(columns=columns)\n",
    "\n",
    "del columns\n",
    "\n",
    "sample_data_ratio_range = (0.1, 0.2, 0.5)\n",
    "\n",
    "for train_data_ratio in sample_data_ratio_range:\n",
    "\n",
    "    # Specify the number of rows to sample\n",
    "    num_rows_to_sample = int(np.floor(X_train_text_cleaned.shape[0] * train_data_ratio))\n",
    "\n",
    "    sampled_X_train_text_cleaned = X_train_text_cleaned.sample(n=num_rows_to_sample, replace=False)\n",
    "\n",
    "    sampled_indices = sampled_X_train_text_cleaned.index\n",
    "\n",
    "    sampled_y_train = y_train[sampled_indices].copy()\n",
    "\n",
    "#     tfidf_vectorizer_tuned = TfidfVectorizer(max_df=0.75, min_df=5, ngram_range=(1, 2))\n",
    "    nmf_model_small = NMF(n_components=num_topics, alpha_H=0, alpha_W=0, random_state=0)\n",
    "\n",
    "    nmf_train_acc, nmf_test_acc = train_nmf_model(word_vectorizer_definition=tfidf_vectorizer_tuned, \\\n",
    "                                                          nmf_model_definition=nmf_model_small, \\\n",
    "                                                          train_text=sampled_X_train_text_cleaned, \\\n",
    "                                                          test_text=X_test_text_cleaned, \\\n",
    "                                                          train_target=sampled_y_train, \\\n",
    "                                                          test_target=y_test, \\\n",
    "                                                          show_result_plot=False, \\\n",
    "                                                          save_model=False)      \n",
    "\n",
    "    rf_train_acc, rf_test_acc = train_rf_model(word_vectorizer_definition=tfidf_vectorizer_tuned, \\\n",
    "                                                  train_text=sampled_X_train_text_cleaned, \\\n",
    "                                                  test_text=X_test_text_cleaned, \\\n",
    "                                                  train_target=sampled_y_train, test_target=y_test, \\\n",
    "                                                  show_result_plot=False)    \n",
    "\n",
    "    new_row = pd.DataFrame({'train_sample_ratio': [train_data_ratio],\n",
    "               'nmf_train_accuracy': [nmf_train_acc],\n",
    "               'nmf_test_accuracy': [nmf_test_acc],\n",
    "               'rf_train_accuracy': [rf_train_acc], \n",
    "               'rf_test_accuracy': [rf_test_acc],\n",
    "              })\n",
    "\n",
    "    data_efficiency = pd.concat([data_efficiency, new_row], ignore_index=True)"
   ]
  },
  {
   "cell_type": "code",
   "execution_count": null,
   "metadata": {
    "execution": {
     "iopub.status.busy": "2023-11-27T09:24:42.463333Z",
     "iopub.status.idle": "2023-11-27T09:24:42.463622Z",
     "shell.execute_reply": "2023-11-27T09:24:42.463496Z",
     "shell.execute_reply.started": "2023-11-27T09:24:42.463482Z"
    }
   },
   "outputs": [],
   "source": [
    "print(data_efficiency)"
   ]
  },
  {
   "cell_type": "markdown",
   "metadata": {},
   "source": [
    "Random Forest requires a smaller amount of data to achieve similar results compared to NMF. Neither algorithms demonstrates overfitting. "
   ]
  },
  {
   "cell_type": "markdown",
   "metadata": {},
   "source": [
    "## Submission file"
   ]
  },
  {
   "cell_type": "code",
   "execution_count": null,
   "metadata": {
    "execution": {
     "iopub.status.busy": "2023-11-27T09:24:42.464679Z",
     "iopub.status.idle": "2023-11-27T09:24:42.464965Z",
     "shell.execute_reply": "2023-11-27T09:24:42.464843Z",
     "shell.execute_reply.started": "2023-11-27T09:24:42.464829Z"
    }
   },
   "outputs": [],
   "source": [
    "print(sample_solution.head())"
   ]
  },
  {
   "cell_type": "code",
   "execution_count": null,
   "metadata": {
    "execution": {
     "iopub.status.busy": "2023-11-27T09:24:42.466029Z",
     "iopub.status.idle": "2023-11-27T09:24:42.466332Z",
     "shell.execute_reply": "2023-11-27T09:24:42.466209Z",
     "shell.execute_reply.started": "2023-11-27T09:24:42.466196Z"
    }
   },
   "outputs": [],
   "source": [
    "submission = submission_test.set_index('ArticleId')\n",
    "\n",
    "with open('models/vectorizer.pkl', 'rb') as f:\n",
    "    word_vectorizer_saved = pickle.load(f)\n",
    "            \n",
    "with open('models/nmf_model.pkl' , 'rb') as f:\n",
    "    nmf_model_saved = pickle.load(f)\n",
    "    \n",
    "with open('models/nmf_model_mapping.pkl' , 'rb') as f:\n",
    "    best_mapping_saved = pickle.load(f)\n",
    "    \n",
    "# with open('/kaggle/working/vectorizer.pkl', 'rb') as f:\n",
    "#     word_vectorizer_saved = pickle.load(f)\n",
    "            \n",
    "# with open('/kaggle/working/nmf_model.pkl' , 'rb') as f:\n",
    "#     nmf_model_saved = pickle.load(f)\n",
    "    \n",
    "# with open('/kaggle/working/nmf_model_mapping.pkl' , 'rb') as f:\n",
    "#     best_mapping_saved = pickle.load(f)    \n",
    "\n",
    "submission_test_cleaned = word_vectorizer_saved.transform(submission['Text'].apply(remove_punctuation)\\\n",
    "                                                         .apply(remove_number).apply(remove_stopword)\\\n",
    "                                                         .apply(remove_extra_space))\n",
    "\n",
    "submission_pred_representation = nmf_model_saved.transform(submission_test_cleaned)\n",
    "submission_pred = submission_pred_representation.argmax(axis=1)\n",
    "submission_pred_formatted = label_encoder.inverse_transform(np.vectorize(best_mapping_saved.get)(submission_pred))\n",
    "\n",
    "submission['Category'] = submission_pred_formatted\n",
    "\n",
    "submission = submission.drop(columns=['Text']).reset_index()\n",
    "\n",
    "submission.to_csv('submission/submission.csv', index=False)\n",
    "# submission.to_csv('/kaggle/working/submission.csv', index=False)"
   ]
  },
  {
   "cell_type": "markdown",
   "metadata": {},
   "source": [
    "## Reference"
   ]
  },
  {
   "cell_type": "markdown",
   "metadata": {},
   "source": [
    "1. Jason Brownlee (August 7, 2019). What Are Word Embeddings for Text? https://machinelearningmastery.com/what-are-word-embeddings\n",
    "\n",
    "2. tf-idf. Wikipedia. https://en.wikipedia.org/wiki/Tf%E2%80%93idf"
   ]
  }
 ],
 "metadata": {
  "kaggle": {
   "accelerator": "none",
   "dataSources": [
    {
     "databundleVersionId": 324297,
     "sourceId": 13351,
     "sourceType": "competition"
    }
   ],
   "dockerImageVersionId": 30587,
   "isGpuEnabled": false,
   "isInternetEnabled": true,
   "language": "python",
   "sourceType": "notebook"
  },
  "kernelspec": {
   "display_name": "Python 3 (ipykernel)",
   "language": "python",
   "name": "python3"
  },
  "language_info": {
   "codemirror_mode": {
    "name": "ipython",
    "version": 3
   },
   "file_extension": ".py",
   "mimetype": "text/x-python",
   "name": "python",
   "nbconvert_exporter": "python",
   "pygments_lexer": "ipython3",
   "version": "3.10.13"
  }
 },
 "nbformat": 4,
 "nbformat_minor": 4
}
