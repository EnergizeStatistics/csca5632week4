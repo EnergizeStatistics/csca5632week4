{
 "cells": [
  {
   "cell_type": "code",
   "execution_count": 1,
   "id": "7e9f3ef2",
   "metadata": {},
   "outputs": [],
   "source": [
    "import pandas as pd\n",
    "# import matplotlib.pyplot as plt\n",
    "import numpy as np\n",
    "import seaborn as sns\n",
    "\n",
    "from scipy.sparse import dok_matrix\n",
    "\n",
    "from sklearn.decomposition import NMF\n",
    "\n",
    "from sklearn.metrics import mean_squared_error"
   ]
  },
  {
   "cell_type": "code",
   "execution_count": 2,
   "id": "68bae0fb",
   "metadata": {},
   "outputs": [],
   "source": [
    "users = pd.read_csv('data/movie-ratings-data/users.csv')\n",
    "movies = pd.read_csv('data/movie-ratings-data/movies.csv')\n",
    "train = pd.read_csv('data/movie-ratings-data/train.csv')\n",
    "test = pd.read_csv('data/movie-ratings-data/test.csv')"
   ]
  },
  {
   "cell_type": "markdown",
   "id": "934e23bc",
   "metadata": {},
   "source": [
    "match user and movie id's to indices"
   ]
  },
  {
   "cell_type": "code",
   "execution_count": 3,
   "id": "c6687bed",
   "metadata": {},
   "outputs": [],
   "source": [
    "uid2idx = {row['uID']: index for index, row in users.iterrows()}\n",
    "mid2idx = {row['mID']: index for index, row in movies.iterrows()}"
   ]
  },
  {
   "cell_type": "markdown",
   "id": "3de77cf2",
   "metadata": {},
   "source": [
    "user-movie rating matrix"
   ]
  },
  {
   "cell_type": "code",
   "execution_count": 4,
   "id": "89432a5b",
   "metadata": {},
   "outputs": [],
   "source": [
    "num_users = users['uID'].nunique()\n",
    "num_movies = movies['mID'].nunique()\n",
    "rating_matrix_train = dok_matrix((num_users, num_movies), dtype=np.float32)\n",
    "\n",
    "for _, row in train.iterrows():\n",
    "    idx_movie = mid2idx[row['mID']]\n",
    "    idx_user = uid2idx[row['uID']]\n",
    "    rating_matrix_train[idx_user, idx_movie] = row['rating']"
   ]
  },
  {
   "cell_type": "markdown",
   "id": "94680b1e",
   "metadata": {},
   "source": [
    "nmf model"
   ]
  },
  {
   "cell_type": "code",
   "execution_count": 5,
   "id": "0ace4b08",
   "metadata": {},
   "outputs": [],
   "source": [
    "nmf_model = NMF(n_components=20, init='random', random_state=0)\n",
    "nmf_model.fit(rating_matrix_train)\n",
    "\n",
    "W = nmf_model.transform(rating_matrix_train)\n",
    "H = nmf_model.components_\n",
    "\n",
    "# Predict ratings for the test set\n",
    "rating_matrix_train_pred = np.dot(W, H)"
   ]
  },
  {
   "cell_type": "code",
   "execution_count": 6,
   "id": "2bb3ea7f",
   "metadata": {},
   "outputs": [],
   "source": [
    "train_pred = train.copy()\n",
    "train_pred['rating_pred'] = np.nan\n",
    "\n",
    "for index, row in train_pred.iterrows():\n",
    "    idx_movie = mid2idx[row['mID']]\n",
    "    idx_user = uid2idx[row['uID']]\n",
    "    train_pred.loc[index, 'rating_pred'] = rating_matrix_train_pred[idx_user, idx_movie]"
   ]
  },
  {
   "cell_type": "code",
   "execution_count": 7,
   "id": "16dd7dca",
   "metadata": {},
   "outputs": [],
   "source": [
    "    # Clipping values                                                    \n",
    "train_pred.loc[train_pred['rating_pred'] > 5, 'rating_pred'] = 5.           # clips ratings above 5             \n",
    "train_pred.loc[train_pred['rating_pred'] < 1, 'rating_pred'] = 1.  # clips ratings below 1\n",
    "train_pred['rating_pred'] = train_pred['rating_pred'].round()"
   ]
  },
  {
   "cell_type": "code",
   "execution_count": 9,
   "id": "7cb3148e",
   "metadata": {},
   "outputs": [
    {
     "data": {
      "text/plain": [
       "2.501832517453663"
      ]
     },
     "execution_count": 9,
     "metadata": {},
     "output_type": "execute_result"
    }
   ],
   "source": [
    "mean_squared_error(train_pred['rating'], train_pred['rating_pred'], squared=False)"
   ]
  },
  {
   "cell_type": "markdown",
   "id": "d6fab61c",
   "metadata": {},
   "source": [
    "test data"
   ]
  },
  {
   "cell_type": "code",
   "execution_count": 10,
   "id": "58821f3a",
   "metadata": {},
   "outputs": [
    {
     "data": {
      "text/plain": [
       "2.5597143169663665"
      ]
     },
     "execution_count": 10,
     "metadata": {},
     "output_type": "execute_result"
    }
   ],
   "source": [
    "test_pred = test.copy()\n",
    "test_pred['rating_pred'] = np.nan\n",
    "\n",
    "for index, row in test_pred.iterrows():\n",
    "    idx_movie = mid2idx[row['mID']]\n",
    "    idx_user = uid2idx[row['uID']]\n",
    "    test_pred.loc[index, 'rating_pred'] = rating_matrix_train_pred[idx_user, idx_movie]\n",
    "    \n",
    "    # Clipping values                                                    \n",
    "test_pred.loc[test_pred['rating_pred'] > 5, 'rating_pred'] = 5.           # clips ratings above 5             \n",
    "test_pred.loc[test_pred['rating_pred'] < 1, 'rating_pred'] = 1.  # clips ratings below 1\n",
    "test_pred['rating_pred'] = test_pred['rating_pred'].round()  \n",
    "\n",
    "mean_squared_error(test_pred['rating'], test_pred['rating_pred'], squared=False)"
   ]
  },
  {
   "cell_type": "code",
   "execution_count": null,
   "id": "60c9ee04",
   "metadata": {},
   "outputs": [],
   "source": []
  }
 ],
 "metadata": {
  "kernelspec": {
   "display_name": "Python 3 (ipykernel)",
   "language": "python",
   "name": "python3"
  },
  "language_info": {
   "codemirror_mode": {
    "name": "ipython",
    "version": 3
   },
   "file_extension": ".py",
   "mimetype": "text/x-python",
   "name": "python",
   "nbconvert_exporter": "python",
   "pygments_lexer": "ipython3",
   "version": "3.10.13"
  }
 },
 "nbformat": 4,
 "nbformat_minor": 5
}
