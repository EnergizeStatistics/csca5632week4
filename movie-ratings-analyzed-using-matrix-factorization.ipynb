{
 "cells": [
  {
   "cell_type": "markdown",
   "id": "cef8616a",
   "metadata": {},
   "source": [
    "# Movie Ratings Prediction"
   ]
  },
  {
   "cell_type": "markdown",
   "id": "43188580",
   "metadata": {},
   "source": [
    "## Load packages"
   ]
  },
  {
   "cell_type": "code",
   "execution_count": 2,
   "id": "7e9f3ef2",
   "metadata": {},
   "outputs": [],
   "source": [
    "import pandas as pd\n",
    "# import matplotlib.pyplot as plt\n",
    "import numpy as np\n",
    "import seaborn as sns\n",
    "\n",
    "from scipy.sparse import dok_matrix\n",
    "\n",
    "from sklearn.decomposition import NMF\n",
    "\n",
    "from sklearn.metrics import mean_squared_error"
   ]
  },
  {
   "cell_type": "markdown",
   "id": "a99d3c6d",
   "metadata": {},
   "source": [
    "## Load data"
   ]
  },
  {
   "cell_type": "code",
   "execution_count": 3,
   "id": "68bae0fb",
   "metadata": {},
   "outputs": [],
   "source": [
    "users = pd.read_csv('data/movie-ratings-data/users.csv')\n",
    "movies = pd.read_csv('data/movie-ratings-data/movies.csv')\n",
    "train = pd.read_csv('data/movie-ratings-data/train.csv')\n",
    "test = pd.read_csv('data/movie-ratings-data/test.csv')"
   ]
  },
  {
   "cell_type": "markdown",
   "id": "fb5b3edb",
   "metadata": {},
   "source": [
    "## Process data"
   ]
  },
  {
   "cell_type": "markdown",
   "id": "934e23bc",
   "metadata": {},
   "source": [
    "### Match user and movie ID's to indices"
   ]
  },
  {
   "cell_type": "code",
   "execution_count": 4,
   "id": "c6687bed",
   "metadata": {},
   "outputs": [],
   "source": [
    "uid2idx = {row['uID']: index for index, row in users.iterrows()}\n",
    "mid2idx = {row['mID']: index for index, row in movies.iterrows()}"
   ]
  },
  {
   "cell_type": "markdown",
   "id": "3de77cf2",
   "metadata": {},
   "source": [
    "### Generate the user-movie rating matrix"
   ]
  },
  {
   "cell_type": "code",
   "execution_count": 5,
   "id": "89432a5b",
   "metadata": {},
   "outputs": [],
   "source": [
    "num_users = users['uID'].nunique()\n",
    "num_movies = movies['mID'].nunique()\n",
    "rating_matrix_train = dok_matrix((num_users, num_movies), dtype=np.float32)\n",
    "\n",
    "for _, row in train.iterrows():\n",
    "    idx_movie = mid2idx[row['mID']]\n",
    "    idx_user = uid2idx[row['uID']]\n",
    "    rating_matrix_train[idx_user, idx_movie] = row['rating']"
   ]
  },
  {
   "cell_type": "markdown",
   "id": "94680b1e",
   "metadata": {},
   "source": [
    "### Define and train the NMF model"
   ]
  },
  {
   "cell_type": "code",
   "execution_count": 6,
   "id": "0ace4b08",
   "metadata": {},
   "outputs": [],
   "source": [
    "nmf_model = NMF(n_components=20, init='random', random_state=0)\n",
    "nmf_model.fit(rating_matrix_train)\n",
    "\n",
    "W = nmf_model.transform(rating_matrix_train)\n",
    "H = nmf_model.components_\n",
    "\n",
    "# Predict ratings for the test set\n",
    "rating_matrix_train_pred = np.dot(W, H)"
   ]
  },
  {
   "cell_type": "markdown",
   "id": "f1320477",
   "metadata": {},
   "source": [
    "### Generate predictions"
   ]
  },
  {
   "cell_type": "code",
   "execution_count": 7,
   "id": "2bb3ea7f",
   "metadata": {},
   "outputs": [],
   "source": [
    "train_pred = train.copy()\n",
    "train_pred['rating_pred'] = np.nan\n",
    "\n",
    "for index, row in train_pred.iterrows():\n",
    "    idx_movie = mid2idx[row['mID']]\n",
    "    idx_user = uid2idx[row['uID']]\n",
    "    train_pred.loc[index, 'rating_pred'] = rating_matrix_train_pred[idx_user, idx_movie]"
   ]
  },
  {
   "cell_type": "markdown",
   "id": "4c2ae5c8",
   "metadata": {},
   "source": [
    "### Clip the prediction values"
   ]
  },
  {
   "cell_type": "code",
   "execution_count": 8,
   "id": "16dd7dca",
   "metadata": {},
   "outputs": [],
   "source": [
    "train_pred.loc[train_pred['rating_pred'] > 5, 'rating_pred'] = 5.\n",
    "train_pred.loc[train_pred['rating_pred'] < 1, 'rating_pred'] = 1.\n",
    "train_pred['rating_pred'] = train_pred['rating_pred'].round()"
   ]
  },
  {
   "cell_type": "markdown",
   "id": "6be3ada1",
   "metadata": {},
   "source": [
    "### Evaluate model performance"
   ]
  },
  {
   "cell_type": "code",
   "execution_count": 9,
   "id": "7cb3148e",
   "metadata": {},
   "outputs": [
    {
     "name": "stdout",
     "output_type": "stream",
     "text": [
      "RMSE in train data: 2.5018\n"
     ]
    }
   ],
   "source": [
    "train_rmse = mean_squared_error(train_pred['rating'], train_pred['rating_pred'], squared=False)\n",
    "print(f'RMSE in train data: {train_rmse:.4f}')"
   ]
  },
  {
   "cell_type": "code",
   "execution_count": 10,
   "id": "58821f3a",
   "metadata": {},
   "outputs": [
    {
     "name": "stdout",
     "output_type": "stream",
     "text": [
      "RMSE in test data: 2.5597\n"
     ]
    }
   ],
   "source": [
    "test_pred = test.copy()\n",
    "test_pred['rating_pred'] = np.nan\n",
    "\n",
    "for index, row in test_pred.iterrows():\n",
    "    idx_movie = mid2idx[row['mID']]\n",
    "    idx_user = uid2idx[row['uID']]\n",
    "    test_pred.loc[index, 'rating_pred'] = rating_matrix_train_pred[idx_user, idx_movie]\n",
    "    \n",
    "                                               \n",
    "test_pred.loc[test_pred['rating_pred'] > 5, 'rating_pred'] = 5.\n",
    "test_pred.loc[test_pred['rating_pred'] < 1, 'rating_pred'] = 1.\n",
    "test_pred['rating_pred'] = test_pred['rating_pred'].round()  \n",
    "\n",
    "\n",
    "\n",
    "test_rmse = mean_squared_error(test_pred['rating'], test_pred['rating_pred'], squared=False)\n",
    "print(f'RMSE in test data: {test_rmse:.4f}')"
   ]
  },
  {
   "cell_type": "markdown",
   "id": "f2b9bafd",
   "metadata": {},
   "source": [
    "## Discussion"
   ]
  },
  {
   "cell_type": "markdown",
   "id": "19731403",
   "metadata": {},
   "source": [
    "The RMSE from both train and test datasets are much higher than Week 3 homework. There are multiple potential reasons why non-negative matrix facorization did not work well compared to simple baseline or similarity-based methods we used in last homework. "
   ]
  },
  {
   "cell_type": "markdown",
   "id": "dc5af01e",
   "metadata": {},
   "source": [
    "### Sparsity?"
   ]
  },
  {
   "cell_type": "code",
   "execution_count": 14,
   "id": "090dc760",
   "metadata": {},
   "outputs": [
    {
     "name": "stdout",
     "output_type": "stream",
     "text": [
      "2.99% of the rating matrix has valid values\n"
     ]
    }
   ],
   "source": [
    "total_elements = num_users * num_movies\n",
    "non_zero_elements = len(rating_matrix_train.keys())\n",
    "sparsity = non_zero_elements / total_elements\n",
    "print(f'{(100 * sparsity):.2f}% of the rating matrix have valid values')"
   ]
  },
  {
   "cell_type": "markdown",
   "id": "c78a1c22",
   "metadata": {},
   "source": [
    "Matrix factorization relies on a user-item matrix where most entries are filled with ratings. However, the calculation above shows that our dataset is very sparse. We expect matrix factorization to struggle.\n",
    "\n",
    "One way to fix this issue is to gather more rating data. "
   ]
  },
  {
   "cell_type": "markdown",
   "id": "f1cb7865",
   "metadata": {},
   "source": [
    "### Hyperparameter?"
   ]
  },
  {
   "cell_type": "markdown",
   "id": "fc893af3",
   "metadata": {},
   "source": [
    "When we defined the NMF model, we arbitrarily picked the number of latent factors to be 20. But the performance of matrix factorization will be sensitive to this hyperparameter. Other regularization hyperparameters might influence the model performance as well. \n",
    "\n",
    "The fix would be to experiment with different values for hyperparameters (potentially via cross-validation) to find the optimal settings."
   ]
  }
 ],
 "metadata": {
  "kernelspec": {
   "display_name": "Python 3 (ipykernel)",
   "language": "python",
   "name": "python3"
  },
  "language_info": {
   "codemirror_mode": {
    "name": "ipython",
    "version": 3
   },
   "file_extension": ".py",
   "mimetype": "text/x-python",
   "name": "python",
   "nbconvert_exporter": "python",
   "pygments_lexer": "ipython3",
   "version": "3.10.13"
  }
 },
 "nbformat": 4,
 "nbformat_minor": 5
}
